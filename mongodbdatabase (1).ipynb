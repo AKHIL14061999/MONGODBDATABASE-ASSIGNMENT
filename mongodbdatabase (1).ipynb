{
 "cells": [
  {
   "cell_type": "markdown",
   "id": "e54d900b-dd11-4549-9564-0f883824c5c4",
   "metadata": {},
   "source": [
    "Q1. What is MongoDB? Explain non-relational databases in short. In which scenarios it is preferred to use MongoDB over SQL databases?\n"
   ]
  },
  {
   "cell_type": "markdown",
   "id": "9e9db791-74a6-44c9-a25f-3f7c8454d19b",
   "metadata": {},
   "source": [
    "Ans-MongoDB is a NoSql database\n",
    "\n",
    "non-relational databases support unstructured or semi-structured data also.\n",
    "non-relational databases no need to predefine schema\n",
    "non-relational databases is a best option for memory management\n",
    "When you know your data may be unstructured or semi-structured, and you also need a flexible schema"
   ]
  },
  {
   "cell_type": "markdown",
   "id": "a87f5b95-ac7c-4625-92a6-40f04a0a4cc1",
   "metadata": {},
   "source": [
    "Q2. State and Explain the features of MongoDB.\n"
   ]
  },
  {
   "cell_type": "code",
   "execution_count": null,
   "id": "fe4eeaf6-c061-4b01-a893-fda18328b8fb",
   "metadata": {},
   "outputs": [],
   "source": [
    "Ans :\n",
    "\n",
    "This is a Schema-less Database\n",
    "This is Document Oriented or key-value\n",
    "This allows Dynamic Queries (no need schema)\n",
    "Power full Aggregation for filtering, sorting, etc."
   ]
  },
  {
   "cell_type": "markdown",
   "id": "d15d248a-ac4f-4840-bbd1-4226e470c3eb",
   "metadata": {},
   "source": [
    "Q3. Write a code to connect MongoDB to Python. Also, create a database and a collection in MongoDB.\n"
   ]
  },
  {
   "cell_type": "code",
   "execution_count": null,
   "id": "4ddeb629-03c6-4534-9247-3e6d1d3be29a",
   "metadata": {},
   "outputs": [],
   "source": [
    "#connect MongoDB to Python\n",
    "import pymongo\n",
    "client = pymongo.MongoClient(\"mongodb+srv://<username>:<passeord>@cluster0.m6yagtd.mongodb.net/?retryWrites=true&w=majority\")\n",
    "db = client.test\n",
    "# create a database\n",
    "db = client['TestDatabase']    \n",
    "# collection in MongoDB\n",
    "data = {\"name\" : \"Akram\" , \n",
    "        \"class\" :\"data science masters \" ,\n",
    "        \"time\" : \"flexi\"}\n",
    "test_collection = db[\"my_record\"]\n",
    "test_collection.insert_one(data1)"
   ]
  },
  {
   "cell_type": "code",
   "execution_count": null,
   "id": "57125a12-fa23-4b3d-b491-649dc02676cb",
   "metadata": {},
   "outputs": [],
   "source": [
    "# create a database\n",
    "db = client['TestDatabase']    "
   ]
  },
  {
   "cell_type": "code",
   "execution_count": null,
   "id": "a3a9fbcf-1252-4c6e-a3c1-ae8e0b875994",
   "metadata": {},
   "outputs": [],
   "source": [
    "# collection in MongoDB\n",
    "data = {\"name\" : \"Akram\" , \n",
    "        \"class\" :\"data science masters \" ,\n",
    "        \"time\" : \"flexi\"}\n",
    "test_collection = db[\"my_record\"]\n",
    "test_collection.insert_one(data1)"
   ]
  },
  {
   "cell_type": "markdown",
   "id": "eee84e64-f586-46d5-b080-7aa9fcdb344e",
   "metadata": {},
   "source": [
    "Q4. Using the database and the collection created in question number 3, write a code to insert one record, and insert many records. Use the find() and find_one() methods to print the inserted record.\n"
   ]
  },
  {
   "cell_type": "code",
   "execution_count": null,
   "id": "34fedb78-20e1-4dd7-b967-214bf97f8b5e",
   "metadata": {},
   "outputs": [],
   "source": [
    "#connect MongoDB to Python\n",
    "import pymongo\n",
    "client = pymongo.MongoClient(\"mongodb+srv://<username>:<passeord>@cluster0.m6yagtd.mongodb.net/?retryWrites=true&w=majority\")\n",
    "db = client.test\n",
    "db = client['TestDatabase']  \n",
    "data = {\"name\" : \"Akram\" , \n",
    "        \"class\" :\"data science masters \" ,\n",
    "        \"time\" : \"flexi\"}\n",
    "test_collection = db[\"my_record\"]\n",
    "test_collection.insert_one(data1)\n",
    "\n",
    " data2 = [\n",
    "  { \"name\": \"Amy\", \"address\": \"Apple st 652\" },\n",
    "  { \"name\": \"Hannah\", \"address\": \"Mountain 21\" },\n",
    "  { \"name\": \"Chuck\", \"address\": \"Main Road 989\" },\n",
    "  { \"name\": \"Viola\", \"address\": \"Sideway 1633\" }\n",
    "]\n",
    "test_collection.insert_many(data2)"
   ]
  },
  {
   "cell_type": "code",
   "execution_count": null,
   "id": "3b06d949-1531-43d2-a95b-f028f0986bea",
   "metadata": {},
   "outputs": [],
   "source": [
    "test_collection.find_one()  \n"
   ]
  },
  {
   "cell_type": "code",
   "execution_count": null,
   "id": "37bfc320-a959-45a9-a6ee-db6696e68111",
   "metadata": {},
   "outputs": [],
   "source": [
    "for i in test_collection.find():         # find all document from collection/table\n",
    "    print(i)"
   ]
  },
  {
   "cell_type": "markdown",
   "id": "76d1264f-7f47-4245-a0ff-099a30655db4",
   "metadata": {},
   "source": [
    "Q5. Explain how you can use the find() method to query the MongoDB database. Write a simple code to demonstrate this.\n"
   ]
  },
  {
   "cell_type": "code",
   "execution_count": null,
   "id": "8f3ad152-a30c-4c7d-ac88-b39911b1edae",
   "metadata": {},
   "outputs": [],
   "source": [
    "find(): This function used to query and retrieve data from a MongoDB collection.\n"
   ]
  },
  {
   "cell_type": "code",
   "execution_count": null,
   "id": "647aeb05-d44b-4ab9-be5d-11f32c7dbb26",
   "metadata": {},
   "outputs": [],
   "source": [
    "for i in test_collection.find({'name': 'Chuck'}): \n",
    "    print(i)"
   ]
  },
  {
   "cell_type": "code",
   "execution_count": null,
   "id": "d51e11e3-2fa7-48de-9a75-36ed3e42d1b8",
   "metadata": {},
   "outputs": [],
   "source": [
    "for i in test_collection.find({\"_id\" :{\"$lt\" : '5'}}):  \n",
    "    print(i) "
   ]
  },
  {
   "cell_type": "markdown",
   "id": "604449c9-b2c1-4477-a7fa-9df14b171257",
   "metadata": {},
   "source": [
    "Q6. Explain the sort() method. Give an example to demonstrate sorting in MongoDB.\n"
   ]
  },
  {
   "cell_type": "code",
   "execution_count": null,
   "id": "1d91696f-246f-48fb-9449-351a41217d48",
   "metadata": {},
   "outputs": [],
   "source": [
    "sort(): It is used to sort result quety\n"
   ]
  },
  {
   "cell_type": "code",
   "execution_count": null,
   "id": "7064423e-dceb-4aab-bcdb-42e26af3675c",
   "metadata": {},
   "outputs": [],
   "source": [
    "\n",
    "# sort rutern data in order to name\n",
    "for i in test_collection.find().sort(\"name\"):\n",
    "    print(i)"
   ]
  },
  {
   "cell_type": "code",
   "execution_count": null,
   "id": "790476ef-6c32-4aa3-9a1b-e1adfb22f809",
   "metadata": {},
   "outputs": [],
   "source": [
    "#sort in descending order\n",
    "for i in test_collection.find().sort(\"name\",-1):\n",
    "    print(i)"
   ]
  },
  {
   "cell_type": "markdown",
   "id": "f66e5115-f10d-4a85-8235-dbef927bcb3a",
   "metadata": {},
   "source": [
    "Q7. Explain why delete_one(), delete_many(), and drop() is used.\n"
   ]
  },
  {
   "cell_type": "code",
   "execution_count": null,
   "id": "1572b659-e47e-46b0-8d01-d2aa31523877",
   "metadata": {},
   "outputs": [],
   "source": [
    "delete_one(): It is used to delete single document from collection\n"
   ]
  },
  {
   "cell_type": "code",
   "execution_count": null,
   "id": "62129dd6-870a-4477-af0f-b5e25ae796e1",
   "metadata": {},
   "outputs": [],
   "source": [
    "test_collection.delete_one({'name': 'Chuck'})\n"
   ]
  },
  {
   "cell_type": "code",
   "execution_count": null,
   "id": "c29e1d03-7d0b-4d48-be3e-b24262e8b45e",
   "metadata": {},
   "outputs": [],
   "source": [
    "delete_many(): It is used to delete all data according to condition\n"
   ]
  },
  {
   "cell_type": "code",
   "execution_count": null,
   "id": "42c23291-6bd9-476d-a151-daed2c38f18b",
   "metadata": {},
   "outputs": [],
   "source": [
    "test_collection.delete_many({\"address\": { \"$regex\": \"^S\" }})\n"
   ]
  },
  {
   "cell_type": "code",
   "execution_count": null,
   "id": "39455f56-1ee3-4682-91c8-49de784eeb36",
   "metadata": {},
   "outputs": [],
   "source": [
    "mycol = db[\"TestDatabase\"]                 # Create collection\n",
    "mycol.drop()                               #drop collection"
   ]
  },
  {
   "cell_type": "code",
   "execution_count": null,
   "id": "9e7641c0-6395-48a6-8ab7-4dea7913ff95",
   "metadata": {},
   "outputs": [],
   "source": []
  },
  {
   "cell_type": "code",
   "execution_count": null,
   "id": "f2368955-ad43-4363-9043-4a4378387887",
   "metadata": {},
   "outputs": [],
   "source": []
  },
  {
   "cell_type": "code",
   "execution_count": null,
   "id": "5cd0541e-319e-457e-98d0-a9e1f18ea1d5",
   "metadata": {},
   "outputs": [],
   "source": []
  }
 ],
 "metadata": {
  "kernelspec": {
   "display_name": "Python 3 (ipykernel)",
   "language": "python",
   "name": "python3"
  },
  "language_info": {
   "codemirror_mode": {
    "name": "ipython",
    "version": 3
   },
   "file_extension": ".py",
   "mimetype": "text/x-python",
   "name": "python",
   "nbconvert_exporter": "python",
   "pygments_lexer": "ipython3",
   "version": "3.10.8"
  }
 },
 "nbformat": 4,
 "nbformat_minor": 5
}
